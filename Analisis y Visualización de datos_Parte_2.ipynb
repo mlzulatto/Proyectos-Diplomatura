{
  "nbformat": 4,
  "nbformat_minor": 0,
  "metadata": {
    "colab": {
      "provenance": []
    },
    "kernelspec": {
      "name": "python3",
      "display_name": "Python 3"
    }
  },
  "cells": [
    {
      "cell_type": "markdown",
      "metadata": {
        "id": "LYvAOR2VzHmW"
      },
      "source": [
        "\n",
        "**Diplomatura en Ciencia de Datos, Aprendizaje Automático y sus Aplicaciones**\n",
        "\n",
        "**Edición 2023**\n",
        "\n",
        "---\n",
        "\n",
        "# Trabajo práctico entregable - Parte 2"
      ]
    },
    {
      "cell_type": "code",
      "metadata": {
        "id": "Xwdfo7z20TUK"
      },
      "source": [
        "import io\n",
        "import matplotlib\n",
        "import matplotlib.pyplot as plt\n",
        "import numpy as np\n",
        "import pandas as pd\n",
        "import seaborn as sns\n",
        "import scipy.stats as stats\n",
        "\n",
        "\n",
        "sns.set_context('talk')"
      ],
      "execution_count": null,
      "outputs": []
    },
    {
      "cell_type": "markdown",
      "metadata": {
        "id": "XY2Hl-Ma07Nn"
      },
      "source": [
        "## Lectura del dataset\n",
        "\n",
        "En la notebook 00 se explican los detalles de la siguiente sección."
      ]
    },
    {
      "cell_type": "code",
      "metadata": {
        "id": "Vviv_sqXdR5W"
      },
      "source": [
        "url = 'https://raw.githubusercontent.com/DiploDatos/AnalisisyVisualizacion/master/sysarmy_survey_2022_processed.csv'\n",
        "df = pd.read_csv(url)"
      ],
      "execution_count": null,
      "outputs": []
    },
    {
      "cell_type": "code",
      "metadata": {
        "id": "gckNHXXLktJ4",
        "colab": {
          "base_uri": "https://localhost:8080/",
          "height": 341
        },
        "outputId": "5080babc-0550-4c05-a552-1e818ffb2d25"
      },
      "source": [
        "df[:3]"
      ],
      "execution_count": null,
      "outputs": [
        {
          "output_type": "execute_result",
          "data": {
            "text/plain": [
              "  work_country work_province work_dedication             work_contract_type  \\\n",
              "0    Argentina     Catamarca       Full-Time      Staff (planta permanente)   \n",
              "1    Argentina         Chaco       Full-Time  Remoto (empresa de otro país)   \n",
              "2    Argentina         Chaco       Full-Time      Staff (planta permanente)   \n",
              "\n",
              "   salary_monthly_BRUTO  salary_monthly_NETO  numero  \\\n",
              "0              300000.0             245000.0    True   \n",
              "1              900000.0             850000.0    True   \n",
              "2              120000.0             115000.0    True   \n",
              "\n",
              "                      salary_in_usd salary_last_dollar_value  \\\n",
              "0                               NaN                      NaN   \n",
              "1  Cobro todo el salario en dólares                      300   \n",
              "2                               NaN                      NaN   \n",
              "\n",
              "  salary_pay_cripto  ... profile_studies_level_state  \\\n",
              "0               NaN  ...                    Completo   \n",
              "1               NaN  ...                         NaN   \n",
              "2               NaN  ...                         NaN   \n",
              "\n",
              "                                  profile_career           profile_university  \\\n",
              "0  Licenciatura en redes y comunicación de datos  UP - Universidad de Palermo   \n",
              "1                                            NaN                          NaN   \n",
              "2                                            NaN                          NaN   \n",
              "\n",
              "  profile_boot_camp profile_boot_camp_carrer work_on_call_duty  \\\n",
              "0               NaN                      NaN               NaN   \n",
              "1               NaN                      NaN               NaN   \n",
              "2               NaN                      NaN               NaN   \n",
              "\n",
              "   salary_on_call_duty_charge work_on_call_duty_charge_type  profile_age  \\\n",
              "0                         NaN                           NaN           35   \n",
              "1                         NaN                           NaN           31   \n",
              "2                         NaN                           NaN           27   \n",
              "\n",
              "  profile_gender  \n",
              "0      Varón Cis  \n",
              "1      Varón Cis  \n",
              "2      Varón Cis  \n",
              "\n",
              "[3 rows x 44 columns]"
            ],
            "text/html": [
              "\n",
              "  <div id=\"df-0845eb30-8d14-4306-8f48-0b6e96471fa2\">\n",
              "    <div class=\"colab-df-container\">\n",
              "      <div>\n",
              "<style scoped>\n",
              "    .dataframe tbody tr th:only-of-type {\n",
              "        vertical-align: middle;\n",
              "    }\n",
              "\n",
              "    .dataframe tbody tr th {\n",
              "        vertical-align: top;\n",
              "    }\n",
              "\n",
              "    .dataframe thead th {\n",
              "        text-align: right;\n",
              "    }\n",
              "</style>\n",
              "<table border=\"1\" class=\"dataframe\">\n",
              "  <thead>\n",
              "    <tr style=\"text-align: right;\">\n",
              "      <th></th>\n",
              "      <th>work_country</th>\n",
              "      <th>work_province</th>\n",
              "      <th>work_dedication</th>\n",
              "      <th>work_contract_type</th>\n",
              "      <th>salary_monthly_BRUTO</th>\n",
              "      <th>salary_monthly_NETO</th>\n",
              "      <th>numero</th>\n",
              "      <th>salary_in_usd</th>\n",
              "      <th>salary_last_dollar_value</th>\n",
              "      <th>salary_pay_cripto</th>\n",
              "      <th>...</th>\n",
              "      <th>profile_studies_level_state</th>\n",
              "      <th>profile_career</th>\n",
              "      <th>profile_university</th>\n",
              "      <th>profile_boot_camp</th>\n",
              "      <th>profile_boot_camp_carrer</th>\n",
              "      <th>work_on_call_duty</th>\n",
              "      <th>salary_on_call_duty_charge</th>\n",
              "      <th>work_on_call_duty_charge_type</th>\n",
              "      <th>profile_age</th>\n",
              "      <th>profile_gender</th>\n",
              "    </tr>\n",
              "  </thead>\n",
              "  <tbody>\n",
              "    <tr>\n",
              "      <th>0</th>\n",
              "      <td>Argentina</td>\n",
              "      <td>Catamarca</td>\n",
              "      <td>Full-Time</td>\n",
              "      <td>Staff (planta permanente)</td>\n",
              "      <td>300000.0</td>\n",
              "      <td>245000.0</td>\n",
              "      <td>True</td>\n",
              "      <td>NaN</td>\n",
              "      <td>NaN</td>\n",
              "      <td>NaN</td>\n",
              "      <td>...</td>\n",
              "      <td>Completo</td>\n",
              "      <td>Licenciatura en redes y comunicación de datos</td>\n",
              "      <td>UP - Universidad de Palermo</td>\n",
              "      <td>NaN</td>\n",
              "      <td>NaN</td>\n",
              "      <td>NaN</td>\n",
              "      <td>NaN</td>\n",
              "      <td>NaN</td>\n",
              "      <td>35</td>\n",
              "      <td>Varón Cis</td>\n",
              "    </tr>\n",
              "    <tr>\n",
              "      <th>1</th>\n",
              "      <td>Argentina</td>\n",
              "      <td>Chaco</td>\n",
              "      <td>Full-Time</td>\n",
              "      <td>Remoto (empresa de otro país)</td>\n",
              "      <td>900000.0</td>\n",
              "      <td>850000.0</td>\n",
              "      <td>True</td>\n",
              "      <td>Cobro todo el salario en dólares</td>\n",
              "      <td>300</td>\n",
              "      <td>NaN</td>\n",
              "      <td>...</td>\n",
              "      <td>NaN</td>\n",
              "      <td>NaN</td>\n",
              "      <td>NaN</td>\n",
              "      <td>NaN</td>\n",
              "      <td>NaN</td>\n",
              "      <td>NaN</td>\n",
              "      <td>NaN</td>\n",
              "      <td>NaN</td>\n",
              "      <td>31</td>\n",
              "      <td>Varón Cis</td>\n",
              "    </tr>\n",
              "    <tr>\n",
              "      <th>2</th>\n",
              "      <td>Argentina</td>\n",
              "      <td>Chaco</td>\n",
              "      <td>Full-Time</td>\n",
              "      <td>Staff (planta permanente)</td>\n",
              "      <td>120000.0</td>\n",
              "      <td>115000.0</td>\n",
              "      <td>True</td>\n",
              "      <td>NaN</td>\n",
              "      <td>NaN</td>\n",
              "      <td>NaN</td>\n",
              "      <td>...</td>\n",
              "      <td>NaN</td>\n",
              "      <td>NaN</td>\n",
              "      <td>NaN</td>\n",
              "      <td>NaN</td>\n",
              "      <td>NaN</td>\n",
              "      <td>NaN</td>\n",
              "      <td>NaN</td>\n",
              "      <td>NaN</td>\n",
              "      <td>27</td>\n",
              "      <td>Varón Cis</td>\n",
              "    </tr>\n",
              "  </tbody>\n",
              "</table>\n",
              "<p>3 rows × 44 columns</p>\n",
              "</div>\n",
              "      <button class=\"colab-df-convert\" onclick=\"convertToInteractive('df-0845eb30-8d14-4306-8f48-0b6e96471fa2')\"\n",
              "              title=\"Convert this dataframe to an interactive table.\"\n",
              "              style=\"display:none;\">\n",
              "        \n",
              "  <svg xmlns=\"http://www.w3.org/2000/svg\" height=\"24px\"viewBox=\"0 0 24 24\"\n",
              "       width=\"24px\">\n",
              "    <path d=\"M0 0h24v24H0V0z\" fill=\"none\"/>\n",
              "    <path d=\"M18.56 5.44l.94 2.06.94-2.06 2.06-.94-2.06-.94-.94-2.06-.94 2.06-2.06.94zm-11 1L8.5 8.5l.94-2.06 2.06-.94-2.06-.94L8.5 2.5l-.94 2.06-2.06.94zm10 10l.94 2.06.94-2.06 2.06-.94-2.06-.94-.94-2.06-.94 2.06-2.06.94z\"/><path d=\"M17.41 7.96l-1.37-1.37c-.4-.4-.92-.59-1.43-.59-.52 0-1.04.2-1.43.59L10.3 9.45l-7.72 7.72c-.78.78-.78 2.05 0 2.83L4 21.41c.39.39.9.59 1.41.59.51 0 1.02-.2 1.41-.59l7.78-7.78 2.81-2.81c.8-.78.8-2.07 0-2.86zM5.41 20L4 18.59l7.72-7.72 1.47 1.35L5.41 20z\"/>\n",
              "  </svg>\n",
              "      </button>\n",
              "      \n",
              "  <style>\n",
              "    .colab-df-container {\n",
              "      display:flex;\n",
              "      flex-wrap:wrap;\n",
              "      gap: 12px;\n",
              "    }\n",
              "\n",
              "    .colab-df-convert {\n",
              "      background-color: #E8F0FE;\n",
              "      border: none;\n",
              "      border-radius: 50%;\n",
              "      cursor: pointer;\n",
              "      display: none;\n",
              "      fill: #1967D2;\n",
              "      height: 32px;\n",
              "      padding: 0 0 0 0;\n",
              "      width: 32px;\n",
              "    }\n",
              "\n",
              "    .colab-df-convert:hover {\n",
              "      background-color: #E2EBFA;\n",
              "      box-shadow: 0px 1px 2px rgba(60, 64, 67, 0.3), 0px 1px 3px 1px rgba(60, 64, 67, 0.15);\n",
              "      fill: #174EA6;\n",
              "    }\n",
              "\n",
              "    [theme=dark] .colab-df-convert {\n",
              "      background-color: #3B4455;\n",
              "      fill: #D2E3FC;\n",
              "    }\n",
              "\n",
              "    [theme=dark] .colab-df-convert:hover {\n",
              "      background-color: #434B5C;\n",
              "      box-shadow: 0px 1px 3px 1px rgba(0, 0, 0, 0.15);\n",
              "      filter: drop-shadow(0px 1px 2px rgba(0, 0, 0, 0.3));\n",
              "      fill: #FFFFFF;\n",
              "    }\n",
              "  </style>\n",
              "\n",
              "      <script>\n",
              "        const buttonEl =\n",
              "          document.querySelector('#df-0845eb30-8d14-4306-8f48-0b6e96471fa2 button.colab-df-convert');\n",
              "        buttonEl.style.display =\n",
              "          google.colab.kernel.accessAllowed ? 'block' : 'none';\n",
              "\n",
              "        async function convertToInteractive(key) {\n",
              "          const element = document.querySelector('#df-0845eb30-8d14-4306-8f48-0b6e96471fa2');\n",
              "          const dataTable =\n",
              "            await google.colab.kernel.invokeFunction('convertToInteractive',\n",
              "                                                     [key], {});\n",
              "          if (!dataTable) return;\n",
              "\n",
              "          const docLinkHtml = 'Like what you see? Visit the ' +\n",
              "            '<a target=\"_blank\" href=https://colab.research.google.com/notebooks/data_table.ipynb>data table notebook</a>'\n",
              "            + ' to learn more about interactive tables.';\n",
              "          element.innerHTML = '';\n",
              "          dataTable['output_type'] = 'display_data';\n",
              "          await google.colab.output.renderOutput(dataTable, element);\n",
              "          const docLink = document.createElement('div');\n",
              "          docLink.innerHTML = docLinkHtml;\n",
              "          element.appendChild(docLink);\n",
              "        }\n",
              "      </script>\n",
              "    </div>\n",
              "  </div>\n",
              "  "
            ]
          },
          "metadata": {},
          "execution_count": 3
        }
      ]
    },
    {
      "cell_type": "code",
      "source": [
        "df.profile_gender.unique()"
      ],
      "metadata": {
        "colab": {
          "base_uri": "https://localhost:8080/"
        },
        "id": "BxFBTUsttpX4",
        "outputId": "d8a8b177-bb80-4919-b245-3ca7cadfba0e"
      },
      "execution_count": null,
      "outputs": [
        {
          "output_type": "execute_result",
          "data": {
            "text/plain": [
              "array(['Varón Cis', 'Varón cis', 'Mujer Cis', 'Mujer', 'Varón Trans',\n",
              "       'Queer', 'No binarie', 'Mujer cis', 'Mujer Trans', 'mujer', 'Gay',\n",
              "       'Fluido', 'Bigénero', 'Femenino'], dtype=object)"
            ]
          },
          "metadata": {},
          "execution_count": 4
        }
      ]
    },
    {
      "cell_type": "code",
      "source": [
        "df.loc[:,'profile_g'] = df.profile_gender.replace({'Varón Cis': 'Varón cis','Mujer': 'Mujer cis','Mujer Cis': 'Mujer cis','Femenino': 'Mujer cis','mujer': 'Mujer cis','Mujer':'Mujer cis','Queer':'Diversidades','Varón Trans':'Diversidades','No binarie':'Diversidades','Mujer Trans':'Diversidades','Fluido':'Diversidades','Bigénero':'Diversidades','Gay':'Diversidades'}).fillna(False)"
      ],
      "metadata": {
        "id": "pJjMneUJtr1H"
      },
      "execution_count": null,
      "outputs": []
    },
    {
      "cell_type": "code",
      "source": [
        "df.profile_g.unique()"
      ],
      "metadata": {
        "colab": {
          "base_uri": "https://localhost:8080/"
        },
        "id": "2QhWCZwxtu45",
        "outputId": "4baaa9d9-e461-4d8c-dd2c-cf8e604e083e"
      },
      "execution_count": null,
      "outputs": [
        {
          "output_type": "execute_result",
          "data": {
            "text/plain": [
              "array(['Varón cis', 'Mujer cis', 'Diversidades'], dtype=object)"
            ]
          },
          "metadata": {},
          "execution_count": 6
        }
      ]
    },
    {
      "cell_type": "code",
      "metadata": {
        "id": "2lzmzK1NuPNT",
        "colab": {
          "base_uri": "https://localhost:8080/",
          "height": 206
        },
        "outputId": "510b0118-8a7c-42e5-8b5f-54a67bcaaf8c"
      },
      "source": [
        "df[['profile_g', 'salary_monthly_NETO']].groupby('profile_g').describe()"
      ],
      "execution_count": null,
      "outputs": [
        {
          "output_type": "execute_result",
          "data": {
            "text/plain": [
              "             salary_monthly_NETO                                               \\\n",
              "                           count           mean            std  min       25%   \n",
              "profile_g                                                                       \n",
              "Diversidades                98.0  261873.543041  356719.368150  0.0   90500.0   \n",
              "Mujer cis                  929.0  188903.430667  184912.713803  0.0   91000.0   \n",
              "Varón cis                 4331.0  296252.343889  433193.328154  0.0  125000.0   \n",
              "\n",
              "                                              \n",
              "                   50%       75%         max  \n",
              "profile_g                                     \n",
              "Diversidades  174448.5  262250.0   1950000.0  \n",
              "Mujer cis     160000.0  237003.0   1878500.0  \n",
              "Varón cis     212146.0  307988.0  15000000.0  "
            ],
            "text/html": [
              "\n",
              "  <div id=\"df-9d2c5879-112e-418c-a3c7-3aa33b66618f\">\n",
              "    <div class=\"colab-df-container\">\n",
              "      <div>\n",
              "<style scoped>\n",
              "    .dataframe tbody tr th:only-of-type {\n",
              "        vertical-align: middle;\n",
              "    }\n",
              "\n",
              "    .dataframe tbody tr th {\n",
              "        vertical-align: top;\n",
              "    }\n",
              "\n",
              "    .dataframe thead tr th {\n",
              "        text-align: left;\n",
              "    }\n",
              "\n",
              "    .dataframe thead tr:last-of-type th {\n",
              "        text-align: right;\n",
              "    }\n",
              "</style>\n",
              "<table border=\"1\" class=\"dataframe\">\n",
              "  <thead>\n",
              "    <tr>\n",
              "      <th></th>\n",
              "      <th colspan=\"8\" halign=\"left\">salary_monthly_NETO</th>\n",
              "    </tr>\n",
              "    <tr>\n",
              "      <th></th>\n",
              "      <th>count</th>\n",
              "      <th>mean</th>\n",
              "      <th>std</th>\n",
              "      <th>min</th>\n",
              "      <th>25%</th>\n",
              "      <th>50%</th>\n",
              "      <th>75%</th>\n",
              "      <th>max</th>\n",
              "    </tr>\n",
              "    <tr>\n",
              "      <th>profile_g</th>\n",
              "      <th></th>\n",
              "      <th></th>\n",
              "      <th></th>\n",
              "      <th></th>\n",
              "      <th></th>\n",
              "      <th></th>\n",
              "      <th></th>\n",
              "      <th></th>\n",
              "    </tr>\n",
              "  </thead>\n",
              "  <tbody>\n",
              "    <tr>\n",
              "      <th>Diversidades</th>\n",
              "      <td>98.0</td>\n",
              "      <td>261873.543041</td>\n",
              "      <td>356719.368150</td>\n",
              "      <td>0.0</td>\n",
              "      <td>90500.0</td>\n",
              "      <td>174448.5</td>\n",
              "      <td>262250.0</td>\n",
              "      <td>1950000.0</td>\n",
              "    </tr>\n",
              "    <tr>\n",
              "      <th>Mujer cis</th>\n",
              "      <td>929.0</td>\n",
              "      <td>188903.430667</td>\n",
              "      <td>184912.713803</td>\n",
              "      <td>0.0</td>\n",
              "      <td>91000.0</td>\n",
              "      <td>160000.0</td>\n",
              "      <td>237003.0</td>\n",
              "      <td>1878500.0</td>\n",
              "    </tr>\n",
              "    <tr>\n",
              "      <th>Varón cis</th>\n",
              "      <td>4331.0</td>\n",
              "      <td>296252.343889</td>\n",
              "      <td>433193.328154</td>\n",
              "      <td>0.0</td>\n",
              "      <td>125000.0</td>\n",
              "      <td>212146.0</td>\n",
              "      <td>307988.0</td>\n",
              "      <td>15000000.0</td>\n",
              "    </tr>\n",
              "  </tbody>\n",
              "</table>\n",
              "</div>\n",
              "      <button class=\"colab-df-convert\" onclick=\"convertToInteractive('df-9d2c5879-112e-418c-a3c7-3aa33b66618f')\"\n",
              "              title=\"Convert this dataframe to an interactive table.\"\n",
              "              style=\"display:none;\">\n",
              "        \n",
              "  <svg xmlns=\"http://www.w3.org/2000/svg\" height=\"24px\"viewBox=\"0 0 24 24\"\n",
              "       width=\"24px\">\n",
              "    <path d=\"M0 0h24v24H0V0z\" fill=\"none\"/>\n",
              "    <path d=\"M18.56 5.44l.94 2.06.94-2.06 2.06-.94-2.06-.94-.94-2.06-.94 2.06-2.06.94zm-11 1L8.5 8.5l.94-2.06 2.06-.94-2.06-.94L8.5 2.5l-.94 2.06-2.06.94zm10 10l.94 2.06.94-2.06 2.06-.94-2.06-.94-.94-2.06-.94 2.06-2.06.94z\"/><path d=\"M17.41 7.96l-1.37-1.37c-.4-.4-.92-.59-1.43-.59-.52 0-1.04.2-1.43.59L10.3 9.45l-7.72 7.72c-.78.78-.78 2.05 0 2.83L4 21.41c.39.39.9.59 1.41.59.51 0 1.02-.2 1.41-.59l7.78-7.78 2.81-2.81c.8-.78.8-2.07 0-2.86zM5.41 20L4 18.59l7.72-7.72 1.47 1.35L5.41 20z\"/>\n",
              "  </svg>\n",
              "      </button>\n",
              "      \n",
              "  <style>\n",
              "    .colab-df-container {\n",
              "      display:flex;\n",
              "      flex-wrap:wrap;\n",
              "      gap: 12px;\n",
              "    }\n",
              "\n",
              "    .colab-df-convert {\n",
              "      background-color: #E8F0FE;\n",
              "      border: none;\n",
              "      border-radius: 50%;\n",
              "      cursor: pointer;\n",
              "      display: none;\n",
              "      fill: #1967D2;\n",
              "      height: 32px;\n",
              "      padding: 0 0 0 0;\n",
              "      width: 32px;\n",
              "    }\n",
              "\n",
              "    .colab-df-convert:hover {\n",
              "      background-color: #E2EBFA;\n",
              "      box-shadow: 0px 1px 2px rgba(60, 64, 67, 0.3), 0px 1px 3px 1px rgba(60, 64, 67, 0.15);\n",
              "      fill: #174EA6;\n",
              "    }\n",
              "\n",
              "    [theme=dark] .colab-df-convert {\n",
              "      background-color: #3B4455;\n",
              "      fill: #D2E3FC;\n",
              "    }\n",
              "\n",
              "    [theme=dark] .colab-df-convert:hover {\n",
              "      background-color: #434B5C;\n",
              "      box-shadow: 0px 1px 3px 1px rgba(0, 0, 0, 0.15);\n",
              "      filter: drop-shadow(0px 1px 2px rgba(0, 0, 0, 0.3));\n",
              "      fill: #FFFFFF;\n",
              "    }\n",
              "  </style>\n",
              "\n",
              "      <script>\n",
              "        const buttonEl =\n",
              "          document.querySelector('#df-9d2c5879-112e-418c-a3c7-3aa33b66618f button.colab-df-convert');\n",
              "        buttonEl.style.display =\n",
              "          google.colab.kernel.accessAllowed ? 'block' : 'none';\n",
              "\n",
              "        async function convertToInteractive(key) {\n",
              "          const element = document.querySelector('#df-9d2c5879-112e-418c-a3c7-3aa33b66618f');\n",
              "          const dataTable =\n",
              "            await google.colab.kernel.invokeFunction('convertToInteractive',\n",
              "                                                     [key], {});\n",
              "          if (!dataTable) return;\n",
              "\n",
              "          const docLinkHtml = 'Like what you see? Visit the ' +\n",
              "            '<a target=\"_blank\" href=https://colab.research.google.com/notebooks/data_table.ipynb>data table notebook</a>'\n",
              "            + ' to learn more about interactive tables.';\n",
              "          element.innerHTML = '';\n",
              "          dataTable['output_type'] = 'display_data';\n",
              "          await google.colab.output.renderOutput(dataTable, element);\n",
              "          const docLink = document.createElement('div');\n",
              "          docLink.innerHTML = docLinkHtml;\n",
              "          element.appendChild(docLink);\n",
              "        }\n",
              "      </script>\n",
              "    </div>\n",
              "  </div>\n",
              "  "
            ]
          },
          "metadata": {},
          "execution_count": 7
        }
      ]
    },
    {
      "cell_type": "code",
      "metadata": {
        "id": "uZ1GxkLylHx0"
      },
      "source": [
        "alpha = 0.05"
      ],
      "execution_count": null,
      "outputs": []
    },
    {
      "cell_type": "code",
      "metadata": {
        "id": "OfzFpDO-lYxk"
      },
      "source": [
        "is_man = df.profile_g == 'Varón cis'\n",
        "\n",
        "groupA = df[(df.salary_monthly_NETO > 1000)  & is_man].salary_monthly_NETO\n",
        "groupB = df[(df.salary_monthly_NETO > 1000) & ~is_man].salary_monthly_NETO\n",
        "\n",
        "groupA = df[(df.salary_monthly_NETO > 1000) & is_man]\n",
        "groupB = df[(df.salary_monthly_NETO > 1000) & ~is_man]\n",
        "\n"
      ],
      "execution_count": null,
      "outputs": []
    },
    {
      "cell_type": "markdown",
      "metadata": {
        "id": "co_0M_ojtmUh"
      },
      "source": [
        "## Ejercicio 1: Estimación\n",
        "\n",
        "**Consigna:**  Calcular una estimación puntual y un intervalo de confianza de nivel (1-alpha) para la resta entre la media del salario Neto para Hombres menos la media del salario Neto para otros géneros(diferencia de las medias entre el grupoA y grupoB).\n",
        "¿Cómo se relaciona este intervalo de confianza con el test de hipótesis?"
      ]
    },
    {
      "cell_type": "code",
      "source": [
        "df_concat = pd.concat([groupA, groupB])\n",
        "df_concat['salary_monthly_NETO'].groupby(is_man).describe()"
      ],
      "metadata": {
        "colab": {
          "base_uri": "https://localhost:8080/",
          "height": 143
        },
        "id": "0IEEusWbKVUD",
        "outputId": "b131cc59-f592-43ff-e1da-c26c68d8aeb9"
      },
      "execution_count": null,
      "outputs": [
        {
          "output_type": "execute_result",
          "data": {
            "text/plain": [
              "            count           mean            std     min       25%       50%  \\\n",
              "profile_g                                                                     \n",
              "False       891.0  225741.927003  208096.345457  1400.0  116750.0  180000.0   \n",
              "True       3975.0  322777.029197  442612.347688  1100.0  147106.5  225000.0   \n",
              "\n",
              "                75%         max  \n",
              "profile_g                        \n",
              "False      250000.0   1950000.0  \n",
              "True       322827.5  15000000.0  "
            ],
            "text/html": [
              "\n",
              "  <div id=\"df-e7e258ac-97d4-4a1d-bd5e-97a04bac5882\">\n",
              "    <div class=\"colab-df-container\">\n",
              "      <div>\n",
              "<style scoped>\n",
              "    .dataframe tbody tr th:only-of-type {\n",
              "        vertical-align: middle;\n",
              "    }\n",
              "\n",
              "    .dataframe tbody tr th {\n",
              "        vertical-align: top;\n",
              "    }\n",
              "\n",
              "    .dataframe thead th {\n",
              "        text-align: right;\n",
              "    }\n",
              "</style>\n",
              "<table border=\"1\" class=\"dataframe\">\n",
              "  <thead>\n",
              "    <tr style=\"text-align: right;\">\n",
              "      <th></th>\n",
              "      <th>count</th>\n",
              "      <th>mean</th>\n",
              "      <th>std</th>\n",
              "      <th>min</th>\n",
              "      <th>25%</th>\n",
              "      <th>50%</th>\n",
              "      <th>75%</th>\n",
              "      <th>max</th>\n",
              "    </tr>\n",
              "    <tr>\n",
              "      <th>profile_g</th>\n",
              "      <th></th>\n",
              "      <th></th>\n",
              "      <th></th>\n",
              "      <th></th>\n",
              "      <th></th>\n",
              "      <th></th>\n",
              "      <th></th>\n",
              "      <th></th>\n",
              "    </tr>\n",
              "  </thead>\n",
              "  <tbody>\n",
              "    <tr>\n",
              "      <th>False</th>\n",
              "      <td>891.0</td>\n",
              "      <td>225741.927003</td>\n",
              "      <td>208096.345457</td>\n",
              "      <td>1400.0</td>\n",
              "      <td>116750.0</td>\n",
              "      <td>180000.0</td>\n",
              "      <td>250000.0</td>\n",
              "      <td>1950000.0</td>\n",
              "    </tr>\n",
              "    <tr>\n",
              "      <th>True</th>\n",
              "      <td>3975.0</td>\n",
              "      <td>322777.029197</td>\n",
              "      <td>442612.347688</td>\n",
              "      <td>1100.0</td>\n",
              "      <td>147106.5</td>\n",
              "      <td>225000.0</td>\n",
              "      <td>322827.5</td>\n",
              "      <td>15000000.0</td>\n",
              "    </tr>\n",
              "  </tbody>\n",
              "</table>\n",
              "</div>\n",
              "      <button class=\"colab-df-convert\" onclick=\"convertToInteractive('df-e7e258ac-97d4-4a1d-bd5e-97a04bac5882')\"\n",
              "              title=\"Convert this dataframe to an interactive table.\"\n",
              "              style=\"display:none;\">\n",
              "        \n",
              "  <svg xmlns=\"http://www.w3.org/2000/svg\" height=\"24px\"viewBox=\"0 0 24 24\"\n",
              "       width=\"24px\">\n",
              "    <path d=\"M0 0h24v24H0V0z\" fill=\"none\"/>\n",
              "    <path d=\"M18.56 5.44l.94 2.06.94-2.06 2.06-.94-2.06-.94-.94-2.06-.94 2.06-2.06.94zm-11 1L8.5 8.5l.94-2.06 2.06-.94-2.06-.94L8.5 2.5l-.94 2.06-2.06.94zm10 10l.94 2.06.94-2.06 2.06-.94-2.06-.94-.94-2.06-.94 2.06-2.06.94z\"/><path d=\"M17.41 7.96l-1.37-1.37c-.4-.4-.92-.59-1.43-.59-.52 0-1.04.2-1.43.59L10.3 9.45l-7.72 7.72c-.78.78-.78 2.05 0 2.83L4 21.41c.39.39.9.59 1.41.59.51 0 1.02-.2 1.41-.59l7.78-7.78 2.81-2.81c.8-.78.8-2.07 0-2.86zM5.41 20L4 18.59l7.72-7.72 1.47 1.35L5.41 20z\"/>\n",
              "  </svg>\n",
              "      </button>\n",
              "      \n",
              "  <style>\n",
              "    .colab-df-container {\n",
              "      display:flex;\n",
              "      flex-wrap:wrap;\n",
              "      gap: 12px;\n",
              "    }\n",
              "\n",
              "    .colab-df-convert {\n",
              "      background-color: #E8F0FE;\n",
              "      border: none;\n",
              "      border-radius: 50%;\n",
              "      cursor: pointer;\n",
              "      display: none;\n",
              "      fill: #1967D2;\n",
              "      height: 32px;\n",
              "      padding: 0 0 0 0;\n",
              "      width: 32px;\n",
              "    }\n",
              "\n",
              "    .colab-df-convert:hover {\n",
              "      background-color: #E2EBFA;\n",
              "      box-shadow: 0px 1px 2px rgba(60, 64, 67, 0.3), 0px 1px 3px 1px rgba(60, 64, 67, 0.15);\n",
              "      fill: #174EA6;\n",
              "    }\n",
              "\n",
              "    [theme=dark] .colab-df-convert {\n",
              "      background-color: #3B4455;\n",
              "      fill: #D2E3FC;\n",
              "    }\n",
              "\n",
              "    [theme=dark] .colab-df-convert:hover {\n",
              "      background-color: #434B5C;\n",
              "      box-shadow: 0px 1px 3px 1px rgba(0, 0, 0, 0.15);\n",
              "      filter: drop-shadow(0px 1px 2px rgba(0, 0, 0, 0.3));\n",
              "      fill: #FFFFFF;\n",
              "    }\n",
              "  </style>\n",
              "\n",
              "      <script>\n",
              "        const buttonEl =\n",
              "          document.querySelector('#df-e7e258ac-97d4-4a1d-bd5e-97a04bac5882 button.colab-df-convert');\n",
              "        buttonEl.style.display =\n",
              "          google.colab.kernel.accessAllowed ? 'block' : 'none';\n",
              "\n",
              "        async function convertToInteractive(key) {\n",
              "          const element = document.querySelector('#df-e7e258ac-97d4-4a1d-bd5e-97a04bac5882');\n",
              "          const dataTable =\n",
              "            await google.colab.kernel.invokeFunction('convertToInteractive',\n",
              "                                                     [key], {});\n",
              "          if (!dataTable) return;\n",
              "\n",
              "          const docLinkHtml = 'Like what you see? Visit the ' +\n",
              "            '<a target=\"_blank\" href=https://colab.research.google.com/notebooks/data_table.ipynb>data table notebook</a>'\n",
              "            + ' to learn more about interactive tables.';\n",
              "          element.innerHTML = '';\n",
              "          dataTable['output_type'] = 'display_data';\n",
              "          await google.colab.output.renderOutput(dataTable, element);\n",
              "          const docLink = document.createElement('div');\n",
              "          docLink.innerHTML = docLinkHtml;\n",
              "          element.appendChild(docLink);\n",
              "        }\n",
              "      </script>\n",
              "    </div>\n",
              "  </div>\n",
              "  "
            ]
          },
          "metadata": {},
          "execution_count": 10
        }
      ]
    },
    {
      "cell_type": "code",
      "metadata": {
        "id": "0fA1RQ0upe6N",
        "colab": {
          "base_uri": "https://localhost:8080/"
        },
        "outputId": "bdd744d3-3fea-4496-9eb4-b3fa7e32705f"
      },
      "source": [
        "#Cálculo de la media de salario neto para hombres y para el resto de géneros\n",
        "Media_GA = groupA['salary_monthly_NETO'].mean()\n",
        "Media_GB = groupB['salary_monthly_NETO'].mean()\n",
        "print(Media_GA,Media_GB)\n"
      ],
      "execution_count": null,
      "outputs": [
        {
          "output_type": "stream",
          "name": "stdout",
          "text": [
            "322777.02919748425 225741.927003367\n"
          ]
        }
      ]
    },
    {
      "cell_type": "code",
      "source": [
        "std_GA = groupA['salary_monthly_NETO'].std()\n",
        "std_GB = groupB['salary_monthly_NETO'].std()\n",
        "print(std_GA,std_GB)"
      ],
      "metadata": {
        "id": "cVmTR0TF3GFj",
        "outputId": "063a668e-f41e-4eee-f6eb-3c94068a4037",
        "colab": {
          "base_uri": "https://localhost:8080/"
        }
      },
      "execution_count": null,
      "outputs": [
        {
          "output_type": "stream",
          "name": "stdout",
          "text": [
            "442612.3476877616 208096.345457438\n"
          ]
        }
      ]
    },
    {
      "cell_type": "code",
      "source": [
        "N_GA = groupA['salary_monthly_NETO'].count()\n",
        "N_GB = groupB['salary_monthly_NETO'].count()\n",
        "print(N_GA,N_GB)"
      ],
      "metadata": {
        "id": "ykPkdFHU4mvl",
        "outputId": "d568624a-5a0e-4a64-c8d1-efda662fac74",
        "colab": {
          "base_uri": "https://localhost:8080/"
        }
      },
      "execution_count": null,
      "outputs": [
        {
          "output_type": "stream",
          "name": "stdout",
          "text": [
            "3975 891\n"
          ]
        }
      ]
    },
    {
      "cell_type": "markdown",
      "source": [
        "Intervalo de confianza para la media de nivel"
      ],
      "metadata": {
        "id": "VG2seWEBzxRz"
      }
    },
    {
      "cell_type": "code",
      "source": [
        "alpha = 0.05  # Nivel de confianza del 95%\n",
        "nA = len(groupA)\n",
        "nB = len(groupB)\n",
        "t_crit = stats.t.ppf(1 - alpha/2, nA + nB - 2) #se obtiene el valor crítico de t para un nivel de confianza del 95% y nA+nB-2 grados de libertad (t_crit) usando la función ppf de la biblioteca scipy.stats.\n",
        "t_crit"
      ],
      "metadata": {
        "colab": {
          "base_uri": "https://localhost:8080/"
        },
        "id": "TFVMHl1sbbYv",
        "outputId": "a0f39be7-7b65-4c7f-c809-94326d83b8f9"
      },
      "execution_count": null,
      "outputs": [
        {
          "output_type": "execute_result",
          "data": {
            "text/plain": [
              "1.9604518241004518"
            ]
          },
          "metadata": {},
          "execution_count": 14
        }
      ]
    },
    {
      "cell_type": "code",
      "source": [
        "#intervalo de confianza\n",
        "resta_medias_liminf=(Media_GA-Media_GB)-t_crit * ((std_GA/np.sqrt(N_GA))+(std_GB/np.sqrt(N_GB)))\n",
        "resta_medias_limsup=(Media_GA-Media_GB)+t_crit * ((std_GA/np.sqrt(N_GA))+(std_GB/np.sqrt(N_GB)))\n",
        "print(resta_medias_liminf,resta_medias_limsup)"
      ],
      "metadata": {
        "colab": {
          "base_uri": "https://localhost:8080/"
        },
        "id": "kIMQa12DEfoz",
        "outputId": "a0d35ea5-05ba-4e05-a084-e4a79e21e133"
      },
      "execution_count": null,
      "outputs": [
        {
          "output_type": "stream",
          "name": "stdout",
          "text": [
            "69604.89477818095 124465.30961005358\n"
          ]
        }
      ]
    },
    {
      "cell_type": "code",
      "source": [
        "#Estimador puntual\n",
        "Media_resta=Media_GA-Media_GB\n",
        "Media_resta"
      ],
      "metadata": {
        "colab": {
          "base_uri": "https://localhost:8080/"
        },
        "id": "TqoU7ArbKfLv",
        "outputId": "14fe89f7-b535-461c-b884-e8aa86176b26"
      },
      "execution_count": null,
      "outputs": [
        {
          "output_type": "execute_result",
          "data": {
            "text/plain": [
              "97035.10219411727"
            ]
          },
          "metadata": {},
          "execution_count": 16
        }
      ]
    },
    {
      "cell_type": "markdown",
      "source": [
        "**Con una confianza del 95% la diferencia de medias poblacionales se encontrará entre 69604 y 124465.**"
      ],
      "metadata": {
        "id": "dB4InapZGFIN"
      }
    },
    {
      "cell_type": "code",
      "source": [
        "long_IC=(resta_medias_limsup-resta_medias_liminf)\n",
        "long_IC"
      ],
      "metadata": {
        "id": "7K3ZXCrv5N6i",
        "outputId": "b4134614-37d4-4f23-9d90-8c6164bb10dd",
        "colab": {
          "base_uri": "https://localhost:8080/"
        }
      },
      "execution_count": null,
      "outputs": [
        {
          "output_type": "execute_result",
          "data": {
            "text/plain": [
              "54860.41483187262"
            ]
          },
          "metadata": {},
          "execution_count": 17
        }
      ]
    },
    {
      "cell_type": "markdown",
      "source": [
        "**La relación entre este intervalo de confianza y el test de hipótesis es que el intervalo de confianza nos da información sobre el rango de valores plausibles para la diferencia de las medias entre los dos grupos, mientras que el test de hipótesis nos dice si la diferencia de las medias es estadísticamente significativa o no. Si el intervalo de confianza no incluye cero, podemos concluir que la diferencia de las medias es significativamente distinta de cero al nivel de confianza dado. Por otro lado, si el intervalo de confianza incluye cero, no podemos rechazar la hipótesis nula de que no hay diferencia significativa entre las medias al nivel de confianza dado.\n",
        "Entonces ambos  utilizan enfoques diferentes para responder la pregunta de interes.**"
      ],
      "metadata": {
        "id": "l5J24PmfSQ2Y"
      }
    },
    {
      "cell_type": "markdown",
      "metadata": {
        "id": "IFi2T7Y6nM92"
      },
      "source": [
        "## Ejercicio 2: Test de hipótesis\n"
      ]
    },
    {
      "cell_type": "markdown",
      "metadata": {
        "id": "Rzxe8UYU6EfJ"
      },
      "source": [
        "\n",
        "### 2.1 Formalización\n",
        "\n",
        "Describir formalmente los distintos componentes de un test de hipótesis para comprobar si la distribución de los salarios es distinta entre los grupos A y B.\n",
        "\n",
        "**Hipótesis Nula**\n",
        "\n",
        "$H_0=...$ --> **La media de la distribución de salarios en el grupo A es igual a la media de la distribución de salarios en el grupo B.**\n",
        "\n",
        "**Estadístico (Pivote)**\n",
        "  * **Identificar el estadístico :** El estadístico de prueba se utiliza para evaluar la hipótesis nula. En este caso, el estadístico de prueba podría ser la diferencia de medias entre los grupos A y B:\n",
        "Pivote = (Media_GA) - (Media_GB)\n",
        "  * **Escribir qué distribución tiene bajo $H_0$**: Se necesita determinar la distribución de probabilidad del estadístico de prueba bajo la hipótesis nula. En este caso, la distribución de probabilidad del estadístico de prueba sería una distribución t de Student con (nA + nB - 2) grados de libertad, donde nA y nB son el número de observaciones en los grupos A y B, respectivamente.\n"
      ]
    },
    {
      "cell_type": "markdown",
      "metadata": {
        "id": "3Ip_5YdenC8u"
      },
      "source": [
        "### 2.2 P-valor\n",
        "\n",
        "1. Calcule el p-valor y decida si rechazar o no la hipótesis nula.\n",
        "2. Interprete el resultado.\n",
        "\n",
        "Links útiles:\n",
        "* [Test de hipótesis usando scipy](https://docs.scipy.org/doc/scipy/reference/generated/scipy.stats.ttest_ind.html)\n",
        "* [Test de Welch](http://daniellakens.blogspot.com/2015/01/always-use-welchs-t-test-instead-of.html)"
      ]
    },
    {
      "cell_type": "code",
      "source": [
        "nA = 3975\n",
        "nB = 891\n",
        "muA = 322777.02919748425\n",
        "muB = 225741.927003367\n",
        "stdA = 442612.3476877616\n",
        "stdB = 208096.345457438\n",
        "alpha = 0.05 # Nivel de confianza del 95%\n",
        "\n",
        "# Calcular la varianza combinada de las muestras\n",
        "Sp = ((nA - 1)*stdA**2 + (nB - 1)*stdB**2) / (nA + nB - 2)\n",
        "\n",
        "# Calcular el estadístico t\n",
        "t = (muA - muB) / (Sp * (1/nA + 1/nB))**0.5\n",
        "\n",
        "# Calcular los grados de libertad\n",
        "df = nA + nB - 2\n",
        "\n",
        "# Calcular el valor crítico de t\n",
        "t_critico = stats.t.ppf(1 - alpha/2, df)\n",
        "\n",
        "# Calcular el p-valor\n",
        "p_valor = 2 * (1 - stats.t.cdf(abs(t), df))\n",
        "\n",
        "# Imprimir los resultados\n",
        "print(\"Estadístico t: \", t)\n",
        "print(\"Valor crítico de t: \", t_critico)\n",
        "print(\"p-valor: \", p_valor)\n",
        "\n",
        "# Interpretar el resultado\n",
        "if abs(t) > t_critico:\n",
        "    print(\"Se rechaza la hipótesis nula.\")\n",
        "else:\n",
        "    print(\"No se puede rechazar la hipótesis nula.\")\n",
        "\n",
        "if p_valor < alpha:\n",
        "    print(\"La diferencia entre las medias de los grupos A y B es estadísticamente significativa.\")\n",
        "else:\n",
        "    print(\"La diferencia entre las medias de los grupos A y B no es estadísticamente significativa.\")"
      ],
      "metadata": {
        "colab": {
          "base_uri": "https://localhost:8080/"
        },
        "id": "OttRRG5mhxiA",
        "outputId": "ec83ea19-80fd-4bee-e940-ffca901c2e13"
      },
      "execution_count": null,
      "outputs": [
        {
          "output_type": "stream",
          "name": "stdout",
          "text": [
            "Estadístico t:  6.387301602375004\n",
            "Valor crítico de t:  1.9604518241004518\n",
            "p-valor:  1.8459234141232628e-10\n",
            "Se rechaza la hipótesis nula.\n",
            "La diferencia entre las medias de los grupos A y B es estadísticamente significativa.\n"
          ]
        }
      ]
    },
    {
      "cell_type": "markdown",
      "source": [
        "**La hipótesis nula plantea que no hay diferencia significativa entre la media de los salarios del grupo A y el grupo B. Por lo tanto, si el p-valor es menor que el nivel de significancia (0.05), entonces se rechaza la hipótesis nula y se concluye que hay evidencia suficiente para afirmar que las medias de los salarios entre el grupo A y el grupo B son diferentes y existe una diferencia significativa entre ellos.**\n",
        "\n",
        "**En nuestro caso el p-valor es menor que el alpha , por lo que se puede concluir que hay evidencia suficiente para afirmar que las medias de los salarios entre el grupo A y el grupo B son diferentes. Por lo tanto, se rechaza la hipótesis nula y se concluye que hay una diferencia significativa entre las medias de los salarios entre ambos grupos.**\n",
        "\n"
      ],
      "metadata": {
        "id": "3JhvAgwJn2y4"
      }
    },
    {
      "cell_type": "markdown",
      "metadata": {
        "id": "8VxiQr5YrQYR"
      },
      "source": [
        "### [Opcional] 2.3 Potencia del test\n",
        "\n",
        "Nuestra muestra, ¿era lo suficientemente grande para detectar si existe o no una diferencia entre los grupos?\n",
        "\n",
        "1. Utilice la función `tt_ind_solve_power` para calcular el tamaño necesario de la muestra para un poder estadístico de 0.8, 0.9 y 0.95, asumiendo una significancia estadística de 0.05.\n",
        "2. ¿Cómo intepretan el poder estadístico de un test? Dado su conocimiento de dominio sobre los datos, ¿les parece que esta muestra es lo suficientemente grande para ser representativo de la tendencia general? ¿y para utilizarlo en un juicio penal contra una empresa XX por una causa de discriminación?\n",
        "\n",
        "[Documentación](https://www.statsmodels.org/stable/generated/statsmodels.stats.power.tt_ind_solve_power.html)\n",
        "\n",
        "NOTA: este análisis debería hacerse ANTES de recolectar los datos."
      ]
    },
    {
      "cell_type": "markdown",
      "source": [
        "**1. Para analizar si la muestra es lo suficientemente grande para ser representativa de la tendencia general,va a dependerá de la población de interés y de la variabilidad en los datos. Si la población de interés es grande y la variabilidad en los datos es baja, una muestra de 3975 y 891 puede ser lo suficientemente grande para ser representativa de la tendencia general. Sin embargo, si la población de interés es pequeña y/o la variabilidad en los datos es alta, se necesitará una muestra más grande para que sea representativa de la población.**\n",
        "\n",
        "\n",
        "**2. Para utilizar una muestra así en un juicio penal por discriminación, hay que considerar que todos los factores que influyen en los resultados de la muestra y no se esten teniendo en cuenta para el análisis estadistico.**"
      ],
      "metadata": {
        "id": "lFcZmt2KzRjZ"
      }
    },
    {
      "cell_type": "code",
      "metadata": {
        "id": "_IiqGfo4t6Db"
      },
      "source": [
        "from statsmodels.stats.power import tt_ind_solve_power"
      ],
      "execution_count": null,
      "outputs": []
    },
    {
      "cell_type": "code",
      "metadata": {
        "id": "LUQ7MA2Apj9x",
        "colab": {
          "base_uri": "https://localhost:8080/"
        },
        "outputId": "c963c9b3-2d22-470b-8221-56d1c338ca9f"
      },
      "source": [
        "effect_size = (muA - muB) / stdB\n",
        "print(effect_size)\n",
        "# nobs1=None  - What we want to know\n",
        "alpha = 0.05\n",
        "ratio = nB/nA\n",
        "\n",
        "sample_size_08 = tt_ind_solve_power(effect_size=effect_size, alpha=alpha, power=0.8, ratio=ratio)\n",
        "sample_size_09 = tt_ind_solve_power(effect_size=effect_size, alpha=alpha, power=0.9, ratio=ratio)\n",
        "sample_size_095 = tt_ind_solve_power(effect_size=effect_size, alpha=alpha, power=0.95, ratio=ratio)\n",
        "\n",
        "print(f\"Tamaño necesario de muestra para un poder estadístico de 0.8: {sample_size_08:.0f}\")\n",
        "print(f\"Tamaño necesario de muestra para un poder estadístico de 0.9: {sample_size_09:.0f}\")\n",
        "print(f\"Tamaño necesario de muestra para un poder estadístico de 0.95: {sample_size_095:.0f}\")"
      ],
      "execution_count": null,
      "outputs": [
        {
          "output_type": "stream",
          "name": "stdout",
          "text": [
            "0.4662989250523089\n",
            "Tamaño necesario de muestra para un poder estadístico de 0.8: 199\n",
            "Tamaño necesario de muestra para un poder estadístico de 0.9: 265\n",
            "Tamaño necesario de muestra para un poder estadístico de 0.95: 328\n"
          ]
        }
      ]
    },
    {
      "cell_type": "markdown",
      "source": [
        "**El resultado de la función \"tt_ind_solve_power\" será el tamaño de muestra necesario para alcanzar la potencia deseada. 199, seria el tamaño de muestra necesario para detectar una diferencia de medias específica entre dos muestras con una potencia estadística determinada(80%) y un nivel de significancia dado(5%)**\n",
        "\n",
        "\n"
      ],
      "metadata": {
        "id": "EwP7gyIoqg5J"
      }
    },
    {
      "cell_type": "markdown",
      "metadata": {
        "id": "useKMdPyMod5"
      },
      "source": [
        "## Ejercicio 3: Comunicación y visualización\n",
        "\n",
        "**Consigna:** Seleccionen un resultado que les parezca relevante a partir de alguno de los ejercicios del entregable. Diseñe e implemente una comunicación en base a este mensaje, en un archivo PDF.\n",
        "\n",
        "Elija las palabras y visualización más adecuada para que la comunicación sea entendible, efectiva y se dapte a UNA de las siguientes situaciones:\n",
        "\n",
        "1. Una sección en un artículo de difusión a presentar como parte de una organización sin fines de lucro.\n",
        "No más de 1 página A4 (o dos si los gráficos son muy grandes).\n",
        "  1. Ejemplo: Alguna de las secciones [Los ecosistemas de emprendimiento de América Latina y el Caribe frente al COVID-19: Impactos, necesidades y recomendaciones](https://publications.iadb.org/es/los-ecosistemas-de-emprendimiento-de-america-latina-y-el-caribe-frente-al-covid-19-impactos-necesidades-y-recomendaciones), por ejemplo la sección *2.2. Reacciones de los emprendedores*.\n",
        "  2. Ejemplo: Alguna de las secciones de [The state of gender pay gap in 2021](https://www.payscale.com/data/gender-pay-gap?tk=carousel-ps-rc-job)\n",
        "  3. Puntos clave:\n",
        "    1. Simpleza de los gráficos.\n",
        "    2. Comunicación en lenguaje simple a personas que no son necesariamente expertos de dominio.\n",
        "    2. Selección de UNA oración sobre la que se hace énfasis.\n",
        "    3. No es necesario que mencionen objetivos ni descripciones del conjunto de datos, se supone que eso ya estaría explicado en otras secciones del informe.\n",
        "\n",
        "2. Una publicación científica o reporte técnico interno. No más de una página A4:\n",
        "  2. Ejemplo: La sección de resultados de [IZA DP No. 12914: The Impact of a Minimum Wage Change on the Distribution of Wages and Household Income](https://www.iza.org/publications/dp/12914/the-impact-of-a-minimum-wage-change-on-the-distribution-of-wages-and-household-income).\n",
        "  2. Ejemplo: Alguna de las secciones de [Temporary reduction in daily global CO2 emissions during the COVID-19 forced confinement](https://www.nature.com/articles/s41558-020-0797-x)\n",
        "  3. Puntos clave:\n",
        "    3. Nivel de detalle técnico requerido. Es necesario justificar la validez del análisis.\n",
        "    4. La idea presentada puede ser más compleja. Pueden asumir que la audiencia tiene conocimiento técnico y va a analizar las visualizaciones en detalle.\n",
        "    5. Pueden presentar más en detalle las limitaciones del análisis (significancia estadística, etc.)\n",
        "    2. No es necesario que mencionen objetivos ni descripciones del conjunto de datos, se supone que eso ya estaría explicado en otras secciones del informe.\n",
        "\n",
        "3. Un tweet (o post de LinkedIn) para la cuenta de su empresa consultora que hace análisis de datos. El objetivo es promocionar un análisis de datos abiertos que van a incluir en su portfolio:\n",
        "  1. Ejemplo: [Comparación vacunas covid](https://twitter.com/infobeautiful/status/1381577746527236098?s=20)\n",
        "  2. Ejemplo: [Tweet del BID](https://twitter.com/el_BID/status/1388508583944507396?s=20). Lo valioso de este tweet es que usaron un único número para transmitir un mensaje. Puede ser algo así, o con un gráfico muy simple.\n",
        "  3. Ejemplo: [Cambio climático](https://twitter.com/UNFCCC/status/1387732156190011394?s=20) Es un muy buen ejemplo, excepto que el gráfico no se lee nada y hay que entrar a la publicación original.\n",
        "  3. Ejemplo: [¿Cuánto están los programadores en las empresas?](https://www.linkedin.com/posts/denis-rothman-0b034043_tech-career-work-activity-6793861923269054464-gS6y) (No verificamos la veracidad o seriedad de la fuente).\n",
        "  4. Puntos clave:\n",
        "    1. Su audiencia no va a mirar la visualización por más de unos segundos, y no tiene conocimiento técnico.\n",
        "  3. Tienen que incluir además una *breve* descripción de cómo obtuvieron los datos que están presentando, que no entraría en el tweet.\n"
      ]
    },
    {
      "cell_type": "code",
      "metadata": {
        "id": "twwYHUztt45L"
      },
      "source": [],
      "execution_count": null,
      "outputs": []
    }
  ]
}